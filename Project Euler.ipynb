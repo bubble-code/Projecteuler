{
 "cells": [
  {
   "cell_type": "code",
   "execution_count": 3,
   "metadata": {},
   "outputs": [],
   "source": [
    "def mul():\n",
    "    suma = 0\n",
    "    for nume in range(1000):\n",
    "        if nume % 3 == 0 and nume % 5 == 0:\n",
    "            suma = suma + nume\n",
    "            continue\n",
    "        if nume % 3 == 0:\n",
    "            suma = suma + nume\n",
    "        if nume % 5 == 0:\n",
    "            suma = suma + nume\n",
    "    return suma"
   ]
  },
  {
   "cell_type": "code",
   "execution_count": 4,
   "metadata": {},
   "outputs": [
    {
     "name": "stdout",
     "output_type": "stream",
     "text": [
      "233168\n"
     ]
    }
   ],
   "source": [
    "print(mul())"
   ]
  },
  {
   "cell_type": "code",
   "execution_count": 2,
   "metadata": {},
   "outputs": [],
   "source": [
    "# Even Fibonacci Numbers\n",
    "# Problem 2\n",
    "def Even_Fibonacci_Numbers(limite):\n",
    "    x,i,total = 1,2,0\n",
    "    while i <= limite:\n",
    "        if i % 2 == 0:\n",
    "            total +=i\n",
    "        x,i = i, x+i\n",
    "    return total"
   ]
  },
  {
   "cell_type": "code",
   "execution_count": 3,
   "metadata": {},
   "outputs": [
    {
     "data": {
      "text/plain": [
       "4613732"
      ]
     },
     "execution_count": 3,
     "metadata": {},
     "output_type": "execute_result"
    }
   ],
   "source": [
    "Even_Fibonacci_Numbers(4000000)"
   ]
  },
  {
   "cell_type": "code",
   "execution_count": 11,
   "metadata": {},
   "outputs": [],
   "source": [
    "# Largest Prime Factor\n",
    "# Problem 3\n",
    "\n",
    "def findLargestPrimeFactor(numero):\n",
    "    primeFactor = 2\n",
    "    listSet = set()\n",
    "    while numero > 1:\n",
    "        if numero % primeFactor == 0:\n",
    "            listSet.add(primeFactor)\n",
    "            while numero % primeFactor == 0:\n",
    "                numero //= primeFactor\n",
    "        primeFactor += 1\n",
    "    return max(listSet)\n",
    "\n",
    "def isPrime(numero):\n",
    "    if numero <=1:\n",
    "        return False\n",
    "    if numero <=3:\n",
    "        return True\n",
    "    if numero % 2 == 0 or numero % 3 == 0:\n",
    "        return False\n",
    "    i = 5\n",
    "    while i * i <= numero:\n",
    "        if numero % i == 0 or numero % (i + 2) == 0:\n",
    "            return False\n",
    "        i += 6\n",
    "    return True\n",
    "\n",
    "def siguiente_primo(current_prime):\n",
    "    next_prime = current_prime + 1\n",
    "    while isPrime(next_prime):\n",
    "        next_prime += 1\n",
    "    return next_prime"
   ]
  },
  {
   "cell_type": "code",
   "execution_count": 12,
   "metadata": {},
   "outputs": [
    {
     "data": {
      "text/plain": [
       "6857"
      ]
     },
     "execution_count": 12,
     "metadata": {},
     "output_type": "execute_result"
    }
   ],
   "source": [
    "findLargestPrimeFactor(600851475143)"
   ]
  }
 ],
 "metadata": {
  "kernelspec": {
   "display_name": "backDashboard",
   "language": "python",
   "name": "python3"
  },
  "language_info": {
   "codemirror_mode": {
    "name": "ipython",
    "version": 3
   },
   "file_extension": ".py",
   "mimetype": "text/x-python",
   "name": "python",
   "nbconvert_exporter": "python",
   "pygments_lexer": "ipython3",
   "version": "3.11.5"
  }
 },
 "nbformat": 4,
 "nbformat_minor": 2
}
