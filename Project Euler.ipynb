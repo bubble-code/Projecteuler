{
 "cells": [
  {
   "cell_type": "code",
   "execution_count": 3,
   "metadata": {},
   "outputs": [],
   "source": [
    "def mul():\n",
    "    suma = 0\n",
    "    for nume in range(1000):\n",
    "        if nume % 3 == 0 and nume % 5 == 0:\n",
    "            suma = suma + nume\n",
    "            continue\n",
    "        if nume % 3 == 0:\n",
    "            suma = suma + nume\n",
    "        if nume % 5 == 0:\n",
    "            suma = suma + nume\n",
    "    return suma"
   ]
  },
  {
   "cell_type": "code",
   "execution_count": 4,
   "metadata": {},
   "outputs": [
    {
     "name": "stdout",
     "output_type": "stream",
     "text": [
      "233168\n"
     ]
    }
   ],
   "source": [
    "print(mul())"
   ]
  },
  {
   "cell_type": "code",
   "execution_count": 2,
   "metadata": {},
   "outputs": [],
   "source": [
    "# Even Fibonacci Numbers\n",
    "# Problem 2\n",
    "def Even_Fibonacci_Numbers(limite):\n",
    "    x,i,total = 1,2,0\n",
    "    while i <= limite:\n",
    "        if i % 2 == 0:\n",
    "            total +=i\n",
    "        x,i = i, x+i\n",
    "    return total"
   ]
  },
  {
   "cell_type": "code",
   "execution_count": 3,
   "metadata": {},
   "outputs": [
    {
     "data": {
      "text/plain": [
       "4613732"
      ]
     },
     "execution_count": 3,
     "metadata": {},
     "output_type": "execute_result"
    }
   ],
   "source": [
    "Even_Fibonacci_Numbers(4000000)"
   ]
  }
 ],
 "metadata": {
  "kernelspec": {
   "display_name": "backDashboard",
   "language": "python",
   "name": "python3"
  },
  "language_info": {
   "codemirror_mode": {
    "name": "ipython",
    "version": 3
   },
   "file_extension": ".py",
   "mimetype": "text/x-python",
   "name": "python",
   "nbconvert_exporter": "python",
   "pygments_lexer": "ipython3",
   "version": "3.11.5"
  }
 },
 "nbformat": 4,
 "nbformat_minor": 2
}
